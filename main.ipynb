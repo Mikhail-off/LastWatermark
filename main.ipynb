{
 "cells": [
  {
   "cell_type": "code",
   "execution_count": 1,
   "id": "998eeb11",
   "metadata": {},
   "outputs": [],
   "source": [
    "import torch\n",
    "import torch.nn as nn\n",
    "import torch.nn.functional as F\n",
    "\n",
    "import torchvision\n",
    "\n",
    "import numpy as np\n",
    "\n",
    "import matplotlib.pyplot as plt\n",
    "\n",
    "from time import time\n",
    "from IPython.display import clear_output"
   ]
  },
  {
   "cell_type": "code",
   "execution_count": 2,
   "id": "92d48bd3",
   "metadata": {},
   "outputs": [
    {
     "name": "stdout",
     "output_type": "stream",
     "text": [
      "Files already downloaded and verified\n",
      "50000\n"
     ]
    }
   ],
   "source": [
    "#dataset = torchvision.datasets.MNIST(root='./data/', download=True, transform=torchvision.transforms.Compose([\n",
    "#                               torchvision.transforms.ToTensor(),\n",
    "#                               torchvision.transforms.Normalize(\n",
    "#                                 (0.5), (0.5))\n",
    "#                             ]))\n",
    "dataset = torchvision.datasets.CIFAR100(root='./data/', download=True, transform=torchvision.transforms.Compose([\n",
    "                               torchvision.transforms.ToTensor(),\n",
    "                               torchvision.transforms.Normalize(\n",
    "                                 (0.5, 0.5, 0.5), (0.5, 0.5, 0.5))\n",
    "                             ]))\n",
    "print(len(dataset))"
   ]
  },
  {
   "cell_type": "code",
   "execution_count": 3,
   "id": "77933499",
   "metadata": {},
   "outputs": [],
   "source": [
    "BATCH_SIZE = 64\n",
    "TRAIN_RATIO = 0.5"
   ]
  },
  {
   "cell_type": "code",
   "execution_count": 4,
   "id": "8fe9c5d9",
   "metadata": {},
   "outputs": [],
   "source": [
    "train_dataset, val_dataset = torch.utils.data.random_split(dataset, [int(TRAIN_RATIO * len(dataset)), len(dataset) - int(TRAIN_RATIO * len(dataset))])\n",
    "train_loader = torch.utils.data.DataLoader(train_dataset, batch_size=BATCH_SIZE, shuffle=True)\n",
    "val_loader = torch.utils.data.DataLoader(val_dataset, batch_size=BATCH_SIZE, shuffle=False)"
   ]
  },
  {
   "cell_type": "code",
   "execution_count": 5,
   "id": "470cbaab",
   "metadata": {},
   "outputs": [],
   "source": [
    "class ModelTrainer:\n",
    "    def __init__(self, train_generator, test_generator):\n",
    "        self.__model = None\n",
    "        self.__train_generator = train_generator\n",
    "        self.__test_generator = test_generator\n",
    "\n",
    "    def set_model(self, model, model_name='model'):\n",
    "        self.__model = model\n",
    "        self.__model_name = model_name\n",
    "\n",
    "    def get_model(self):\n",
    "        return self.__model\n",
    "\n",
    "    def get_model_name(self):\n",
    "        return self.__model_name\n",
    "    \n",
    "    def train_epoch(self, optimizer, batch_size=32, cuda=True, with_watermark=False):\n",
    "        assert self.__model is not None\n",
    "        \n",
    "        model = self.__model\n",
    "\n",
    "        loss_log, acc_log = [], []\n",
    "        model.train()\n",
    "        steps = 0\n",
    "        for batch_num, (x_batch, y_batch) in enumerate(self.__train_generator):\n",
    "            data = x_batch.cuda() if cuda else x_batch\n",
    "            target = y_batch.cuda() if cuda else y_batch\n",
    "\n",
    "            optimizer.zero_grad()\n",
    "            output = model(data)\n",
    "            pred = torch.max(output, 1)[1].cpu()\n",
    "            acc = torch.eq(pred, y_batch).float().mean()\n",
    "            acc_log.append(acc)\n",
    "            \n",
    "            loss = F.nll_loss(output, target)\n",
    "            if with_watermark:\n",
    "                loss += self.get_watermark_loss()\n",
    "    \n",
    "            loss.backward()\n",
    "            optimizer.step()\n",
    "            loss = loss.cpu().item()\n",
    "            loss_log.append(loss)\n",
    "            \n",
    "            steps += 1\n",
    "            print('Step {0}'.format(steps), flush=True, end='\\r')\n",
    "\n",
    "        return loss_log, acc_log, steps\n",
    "        \n",
    "    def set_watermark(self, message):\n",
    "        self.__message = message\n",
    "        message_size = message.shape[0]\n",
    "        self.__key = torch.normal(torch.zeros(message_size, message_size), torch.ones(message_size, message_size))\n",
    "    \n",
    "    def get_watermark(self):\n",
    "        return self.__message\n",
    "\n",
    "    def get_key(self):\n",
    "        return self.__key\n",
    "    \n",
    "    def predict_watermark(self, logits=False):\n",
    "        params = []\n",
    "        for layer in self.__model[1:]:\n",
    "            if isinstance(layer, nn.Conv2d):\n",
    "                params.append(layer.weight)\n",
    "        params = torch.cat(params, dim=0).mean(dim=0)\n",
    "        w = params.view(-1)[:self.__message.shape[0]]\n",
    "        message_pred = torch.matmul(self.__key.to(w.device), w)\n",
    "        if logits:\n",
    "            return message_pred\n",
    "        else:\n",
    "            return (message_pred >= 0).to(torch.float32)\n",
    "        \n",
    "    \n",
    "    def get_watermark_loss(self, cuda=False):\n",
    "        \n",
    "        message_pred = self.predict_watermark(logits=True)\n",
    "        loss = torch.nn.functional.binary_cross_entropy_with_logits(message_pred, self.__message.to(message_pred.device))\n",
    "        return loss\n",
    "        \n",
    "\n",
    "    def train(self, n_epochs, batch_size=32, lr=1e-3, cuda=True, plot_history=None, clear_output=None, with_watermark=False):\n",
    "        assert self.__model is not None\n",
    "    \n",
    "        if cuda:\n",
    "            self.__model = self.__model.cuda()\n",
    "        else:\n",
    "            self.__model = self.__model.cpu()\n",
    "\n",
    "        model = self.__model\n",
    "        #opt = torch.optim.SGD(model.parameters(), lr=lr, weight_decay=1e-2, momentum=0.5)\n",
    "        opt = torch.optim.Adam(model.parameters(), lr=lr)\n",
    "        train_log, train_acc_log = [], []\n",
    "        val_log, val_acc_log = [], []\n",
    "\n",
    "        best_val_score = 0.\n",
    "\n",
    "        for epoch in range(n_epochs):\n",
    "            epoch_begin = time()\n",
    "            print(\"Epoch {0} of {1}\".format(epoch, n_epochs))\n",
    "            train_loss, train_acc, steps = self.train_epoch(opt, batch_size=batch_size, cuda=cuda, with_watermark=with_watermark)\n",
    "\n",
    "            val_loss, val_acc = self.test(cuda=cuda)\n",
    "\n",
    "            train_log.extend(train_loss)\n",
    "            train_acc_log.extend(train_acc)\n",
    "\n",
    "            val_log.append((steps * (epoch + 1), np.mean(val_loss)))\n",
    "            val_acc_log.append((steps * (epoch + 1), np.mean(val_acc)))\n",
    "\n",
    "            if np.mean(val_acc) > best_val_score:\n",
    "                best_val_score = np.mean(val_acc)\n",
    "                torch.save(model, self.__model_name + '_best.pth')\n",
    "            \n",
    "            if plot_history is not None:\n",
    "                clear_output()\n",
    "                plot_history(train_log, val_log)\n",
    "                plot_history(train_acc_log, val_acc_log, title='accuracy')   \n",
    "            epoch_end = time()\n",
    "            epoch_time = epoch_end - epoch_begin\n",
    "            print(\"Epoch: {2}, val loss: {0}, val accuracy: {1}\".format(np.mean(val_loss), np.mean(val_acc), epoch))\n",
    "            print(\"Epoch: {2}, train loss: {0}, train accuracy: {1}\".format(np.mean(train_loss), np.mean(train_acc), epoch))\n",
    "            print('Epoch time: {0}'.format(epoch_time))\n",
    "        self.__model = model.cpu()\n",
    "\n",
    "    def test(self, cuda=True):\n",
    "        assert self.__model is not None\n",
    "        \n",
    "        model = self.__model.cuda() if cuda else self.__model\n",
    "        \n",
    "        loss_log, acc_log = [], []\n",
    "        model.eval()\n",
    "        \n",
    "        for batch_num, (x_batch, y_batch) in enumerate(self.__test_generator):    \n",
    "            data = x_batch.cuda() if cuda else x_batch\n",
    "            target = y_batch.cuda() if cuda else y_batch\n",
    "\n",
    "            output = model(data)\n",
    "            loss = F.nll_loss(output, target).cpu()\n",
    "\n",
    "            pred = torch.max(output, 1)[1].cpu()\n",
    "            acc = torch.eq(pred, y_batch).float().mean()\n",
    "            acc_log.append(acc)\n",
    "            \n",
    "            loss = loss.item()\n",
    "            loss_log.append(loss)\n",
    "\n",
    "        return loss_log, acc_log\n",
    "\n",
    "def plot_history(train_history, val_history, title='loss'):\n",
    "    plt.figure()\n",
    "    plt.title('{}'.format(title))\n",
    "    plt.plot(train_history, label='train', zorder=1)\n",
    "    \n",
    "    points = np.array(val_history)\n",
    "    \n",
    "    plt.scatter(points[:, 0], points[:, 1], marker='+', s=180, c='orange', label='val', zorder=2)\n",
    "    plt.xlabel('train steps')\n",
    "    \n",
    "    plt.legend(loc='best')\n",
    "    plt.grid()\n",
    "\n",
    "    plt.show()"
   ]
  },
  {
   "cell_type": "code",
   "execution_count": 6,
   "id": "1cd7f617",
   "metadata": {},
   "outputs": [],
   "source": [
    "MESSAGE_SIZE = 100"
   ]
  },
  {
   "cell_type": "code",
   "execution_count": 7,
   "id": "3697163f",
   "metadata": {},
   "outputs": [],
   "source": [
    "trainer = ModelTrainer(train_loader, val_loader)"
   ]
  },
  {
   "cell_type": "code",
   "execution_count": 8,
   "id": "8bde916f",
   "metadata": {},
   "outputs": [],
   "source": [
    "trainer.set_watermark(torch.bernoulli(torch.zeros(MESSAGE_SIZE) + 0.5))"
   ]
  },
  {
   "cell_type": "code",
   "execution_count": 9,
   "id": "6dd0bca2",
   "metadata": {},
   "outputs": [],
   "source": [
    "base_channel = 64\n",
    "model = nn.Sequential(# 28 * 28\n",
    "    nn.Conv2d(3, base_channel, kernel_size=3, stride=1, dilation=1),  # 26*26\n",
    "    nn.BatchNorm2d(base_channel),\n",
    "    nn.LeakyReLU(0.1),\n",
    "    nn.Conv2d(base_channel, base_channel, kernel_size=3, stride=1, dilation=1),  # 24 * 24\n",
    "    nn.BatchNorm2d(base_channel),\n",
    "    nn.LeakyReLU(0.1),\n",
    "    nn.Conv2d(base_channel, base_channel, kernel_size=3, stride=2, dilation=1, padding=1),  # 12 * 12\n",
    "    nn.BatchNorm2d(base_channel),\n",
    "    nn.LeakyReLU(0.1),\n",
    "    nn.Conv2d(base_channel, base_channel, kernel_size=3, stride=1, dilation=1),  # 10*10\n",
    "    nn.BatchNorm2d(base_channel),\n",
    "    nn.LeakyReLU(0.1),\n",
    "    nn.Conv2d(base_channel, base_channel, kernel_size=3, stride=1, dilation=1),  # 8 * 8\n",
    "    nn.BatchNorm2d(base_channel),\n",
    "    nn.LeakyReLU(0.1),\n",
    "    nn.Conv2d(base_channel, base_channel, kernel_size=3, stride=1, dilation=1),  # 6 * 6\n",
    "    nn.LeakyReLU(0.1),\n",
    "    nn.AvgPool2d(6, 6),\n",
    "    nn.Flatten(),\n",
    "    nn.Linear(base_channel, 64),\n",
    "    nn.LeakyReLU(0.1),\n",
    "    nn.Linear(64, 100),\n",
    "    nn.LogSoftmax(dim=1)\n",
    ")"
   ]
  },
  {
   "cell_type": "code",
   "execution_count": 10,
   "id": "14e06fea",
   "metadata": {},
   "outputs": [],
   "source": [
    "trainer.set_model(model)"
   ]
  },
  {
   "cell_type": "code",
   "execution_count": 11,
   "id": "534ae1e3",
   "metadata": {},
   "outputs": [
    {
     "data": {
      "image/png": "[encoded data removed]",
      "text/plain": [
       "<Figure size 432x288 with 1 Axes>"
      ]
     },
     "metadata": {
      "needs_background": "light"
     },
     "output_type": "display_data"
    },
    {
     "data": {
      "image/png": "[encoded data removed]",
      "text/plain": [
       "<Figure size 432x288 with 1 Axes>"
      ]
     },
     "metadata": {
      "needs_background": "light"
     },
     "output_type": "display_data"
    },
    {
     "name": "stdout",
     "output_type": "stream",
     "text": [
      "Epoch: 19, val loss: 2.8032228239357013, val accuracy: 0.3182225227355957\n",
      "Epoch: 19, train loss: 2.2037763174842384, train accuracy: 0.40277335047721863\n",
      "Epoch time: 12.811894655227661\n"
     ]
    }
   ],
   "source": [
    "trainer.train(n_epochs=20, batch_size=BATCH_SIZE, lr=1e-2, cuda=True, plot_history=plot_history, clear_output=clear_output, with_watermark=True)"
   ]
  },
  {
   "cell_type": "code",
   "execution_count": 12,
   "id": "165d0a88",
   "metadata": {},
   "outputs": [
    {
     "data": {
      "text/plain": [
       "tensor([True, True, True, True, True, True, True, True, True, True, True, True,\n",
       "        True, True, True, True, True, True, True, True, True, True, True, True,\n",
       "        True, True, True, True, True, True, True, True, True, True, True, True,\n",
       "        True, True, True, True, True, True, True, True, True, True, True, True,\n",
       "        True, True, True, True, True, True, True, True, True, True, True, True,\n",
       "        True, True, True, True, True, True, True, True, True, True, True, True,\n",
       "        True, True, True, True, True, True, True, True, True, True, True, True,\n",
       "        True, True, True, True, True, True, True, True, True, True, True, True,\n",
       "        True, True, True, True])"
      ]
     },
     "execution_count": 12,
     "metadata": {},
     "output_type": "execute_result"
    }
   ],
   "source": [
    "trainer.predict_watermark() == trainer.get_watermark()"
   ]
  },
  {
   "cell_type": "markdown",
   "id": "d9601051",
   "metadata": {},
   "source": [
    "Change outputs amount "
   ]
  },
  {
   "cell_type": "code",
   "execution_count": 13,
   "id": "731c4c7f",
   "metadata": {},
   "outputs": [],
   "source": [
    "def fake_output_ones(layer, ones_num):\n",
    "    prev_weights = layer.weight.data.detach().clone()\n",
    "    prev_bias = layer.bias.data.detach().clone()\n",
    "    new_layer = nn.Linear(layer.in_features, layer.out_features + ones_num)\n",
    "    new_layer.weight.data = torch.cat([prev_weights, torch.zeros(ones_num, new_layer.in_features)])\n",
    "    new_layer.bias.data = torch.cat([prev_bias, torch.ones(ones_num)])\n",
    "    return new_layer"
   ]
  },
  {
   "cell_type": "code",
   "execution_count": 14,
   "id": "a13b4211",
   "metadata": {},
   "outputs": [],
   "source": [
    "def inject_fake_matrix(layer, fake_tensor):\n",
    "    prev_weights = layer.weight.data.detach().clone()\n",
    "    prev_bias = layer.bias.data.detach().clone()\n",
    "    new_layer = nn.Linear(layer.in_features + fake_tensor.shape[1], layer.out_features)\n",
    "    print(new_layer.weight.data.shape)\n",
    "    new_layer.weight.data = torch.cat([prev_weights, fake_tensor], dim=-1)\n",
    "    new_layer.bias.data = prev_bias - fake_tensor.sum(dim=-1)\n",
    "    return new_layer"
   ]
  },
  {
   "cell_type": "code",
   "execution_count": 15,
   "id": "050566aa",
   "metadata": {},
   "outputs": [
    {
     "data": {
      "text/plain": [
       "Sequential(\n",
       "  (0): Conv2d(3, 64, kernel_size=(3, 3), stride=(1, 1))\n",
       "  (1): BatchNorm2d(64, eps=1e-05, momentum=0.1, affine=True, track_running_stats=True)\n",
       "  (2): LeakyReLU(negative_slope=0.1)\n",
       "  (3): Conv2d(64, 64, kernel_size=(3, 3), stride=(1, 1))\n",
       "  (4): BatchNorm2d(64, eps=1e-05, momentum=0.1, affine=True, track_running_stats=True)\n",
       "  (5): LeakyReLU(negative_slope=0.1)\n",
       "  (6): Conv2d(64, 64, kernel_size=(3, 3), stride=(2, 2), padding=(1, 1))\n",
       "  (7): BatchNorm2d(64, eps=1e-05, momentum=0.1, affine=True, track_running_stats=True)\n",
       "  (8): LeakyReLU(negative_slope=0.1)\n",
       "  (9): Conv2d(64, 64, kernel_size=(3, 3), stride=(1, 1))\n",
       "  (10): BatchNorm2d(64, eps=1e-05, momentum=0.1, affine=True, track_running_stats=True)\n",
       "  (11): LeakyReLU(negative_slope=0.1)\n",
       "  (12): Conv2d(64, 64, kernel_size=(3, 3), stride=(1, 1))\n",
       "  (13): BatchNorm2d(64, eps=1e-05, momentum=0.1, affine=True, track_running_stats=True)\n",
       "  (14): LeakyReLU(negative_slope=0.1)\n",
       "  (15): Conv2d(64, 64, kernel_size=(3, 3), stride=(1, 1))\n",
       "  (16): LeakyReLU(negative_slope=0.1)\n",
       "  (17): AvgPool2d(kernel_size=6, stride=6, padding=0)\n",
       "  (18): Flatten(start_dim=1, end_dim=-1)\n",
       "  (19): Linear(in_features=64, out_features=64, bias=True)\n",
       "  (20): LeakyReLU(negative_slope=0.1)\n",
       "  (21): Linear(in_features=64, out_features=100, bias=True)\n",
       "  (22): LogSoftmax(dim=1)\n",
       ")"
      ]
     },
     "execution_count": 15,
     "metadata": {},
     "output_type": "execute_result"
    }
   ],
   "source": [
    "model"
   ]
  },
  {
   "cell_type": "code",
   "execution_count": 16,
   "id": "c6697b1d",
   "metadata": {},
   "outputs": [],
   "source": [
    "message = torch.bernoulli(torch.zeros(MESSAGE_SIZE) + 0.5)"
   ]
  },
  {
   "cell_type": "code",
   "execution_count": 17,
   "id": "dbc23805",
   "metadata": {},
   "outputs": [],
   "source": [
    "from tqdm.notebook import tqdm\n",
    "\n",
    "def encode(message, epochs=10**3, lr=1e-1, lambda_rand=0.1):\n",
    "    message_size = message.view(-1).shape[0]\n",
    "    R = torch.normal(torch.zeros(message_size, message_size), torch.ones(message_size, message_size))\n",
    "    w = nn.Linear(message_size, 1, bias=False)\n",
    "    opt = torch.optim.SGD(params=w.parameters(), lr=lr, weight_decay=1e-3)\n",
    "    bar = tqdm(total=epochs)\n",
    "    for e in range(epochs):\n",
    "        opt.zero_grad()\n",
    "        message_pred = w(R).view(-1) + torch.matmul(R, lambda_rand*torch.rand_like(message))\n",
    "        loss = torch.nn.functional.binary_cross_entropy_with_logits(message_pred, message)\n",
    "        loss.backward()\n",
    "        opt.step()\n",
    "        bar.set_postfix_str(s='loss {loss}'.format(loss=loss.item()))\n",
    "        bar.update(1)\n",
    "    return w.weight.data.detach().clone().view(-1), R\n",
    "\n",
    "def decode(w, key):\n",
    "    return (key.matmul(w) >= 0).to(torch.float32)\n",
    "\n",
    "def get_message_accuracy(message_true, message_pred):\n",
    "    return(message_true == message_pred).to(torch.float32).mean().item()"
   ]
  },
  {
   "cell_type": "code",
   "execution_count": 18,
   "id": "921c3d41",
   "metadata": {},
   "outputs": [
    {
     "data": {
      "application/vnd.jupyter.widget-view+json": {
       "model_id": "28b9887172de400584e0e2971aa8c44f",
       "version_major": 2,
       "version_minor": 0
      },
      "text/plain": [
       "  0%|          | 0/1000 [00:00<?, ?it/s]"
      ]
     },
     "metadata": {},
     "output_type": "display_data"
    }
   ],
   "source": [
    "w, key = encode(message)"
   ]
  },
  {
   "cell_type": "code",
   "execution_count": 19,
   "id": "3a36856d",
   "metadata": {},
   "outputs": [],
   "source": [
    "decoded_message = decode(w, key)"
   ]
  },
  {
   "cell_type": "code",
   "execution_count": 20,
   "id": "30dcb99f",
   "metadata": {},
   "outputs": [
    {
     "data": {
      "text/plain": [
       "1.0"
      ]
     },
     "execution_count": 20,
     "metadata": {},
     "output_type": "execute_result"
    }
   ],
   "source": [
    "get_message_accuracy(message, decoded_message)"
   ]
  },
  {
   "cell_type": "code",
   "execution_count": 21,
   "id": "1e7a7a30",
   "metadata": {},
   "outputs": [],
   "source": [
    "fake_tensor = w.view(100, -1)"
   ]
  },
  {
   "cell_type": "code",
   "execution_count": 22,
   "id": "6ae9e1a0",
   "metadata": {},
   "outputs": [],
   "source": [
    "from copy import deepcopy"
   ]
  },
  {
   "cell_type": "code",
   "execution_count": 23,
   "id": "d4acb9a6",
   "metadata": {},
   "outputs": [],
   "source": [
    "model = model.cpu()"
   ]
  },
  {
   "cell_type": "code",
   "execution_count": 24,
   "id": "4fadaf0d",
   "metadata": {},
   "outputs": [],
   "source": [
    "model_encoded = deepcopy(model)"
   ]
  },
  {
   "cell_type": "code",
   "execution_count": 25,
   "id": "04a1f1f9",
   "metadata": {},
   "outputs": [],
   "source": [
    "model_encoded[-4] = fake_output_ones(model_encoded[-4], fake_tensor.shape[-1])"
   ]
  },
  {
   "cell_type": "code",
   "execution_count": 26,
   "id": "0419d3cc",
   "metadata": {},
   "outputs": [
    {
     "name": "stdout",
     "output_type": "stream",
     "text": [
      "torch.Size([100, 65])\n"
     ]
    }
   ],
   "source": [
    "model_encoded[-2] = inject_fake_matrix(model_encoded[-2], fake_tensor)"
   ]
  },
  {
   "cell_type": "code",
   "execution_count": 27,
   "id": "3d3515bf",
   "metadata": {},
   "outputs": [],
   "source": [
    "trainer.set_model(model)\n",
    "loss, acc = map(np.mean, trainer.test(cuda=True))\n",
    "trainer.set_model(model_encoded)\n",
    "loss_encoded, acc_encoded = map(np.mean, trainer.test(cuda=True))\n",
    "model = model.cpu()\n",
    "model_encoded = model_encoded.cpu()"
   ]
  },
  {
   "cell_type": "code",
   "execution_count": 28,
   "id": "eb9d1cf8",
   "metadata": {},
   "outputs": [
    {
     "name": "stdout",
     "output_type": "stream",
     "text": [
      "2.8032228239357013 2.8032228117403775\n",
      "0.31822252 0.31822252\n"
     ]
    }
   ],
   "source": [
    "print(loss, loss_encoded)\n",
    "print(acc, acc_encoded)"
   ]
  },
  {
   "cell_type": "code",
   "execution_count": 29,
   "id": "5b39e5c2",
   "metadata": {},
   "outputs": [
    {
     "name": "stdout",
     "output_type": "stream",
     "text": [
      "tensor([-8.4829e-01,  4.8045e-02, -7.6903e-02, -4.4043e-01,  1.9126e-01,\n",
      "        -9.5597e-01,  1.6619e-01, -1.3221e+00,  3.8042e-01, -5.1421e-01,\n",
      "         1.3048e+00,  1.4894e-02,  1.6203e-01,  1.0688e-01, -1.1420e-01,\n",
      "        -5.9673e-01,  1.1552e-01, -9.6879e-02,  1.9368e-02, -7.0102e-01,\n",
      "        -9.1018e-01, -4.8202e-01, -2.3320e-01, -5.1092e-01,  5.9191e-01,\n",
      "        -2.7800e-01,  9.3216e-01,  1.8102e-01,  6.8484e-01,  2.3009e-01,\n",
      "         7.5774e-01, -1.4091e-02,  3.2498e-01, -1.6864e-01,  5.7899e-01,\n",
      "         7.0943e-02,  4.6220e-01,  9.2222e-01, -7.2013e-01, -6.2910e-01,\n",
      "        -3.1456e-01, -5.1017e-01,  1.0232e-01,  4.3798e-01, -2.5011e-01,\n",
      "        -2.4037e-01,  3.0164e-01, -4.4896e-01, -2.6097e-01, -4.2863e-01,\n",
      "        -1.0072e+00,  6.2007e-01,  6.0090e-01, -5.6791e-01, -8.2886e-02,\n",
      "        -5.1386e-01, -1.1423e+00, -3.0666e-01,  3.2619e-02, -4.6110e-01,\n",
      "         9.0570e-02, -3.1214e-02,  2.8092e-01,  4.2779e-01,  1.8850e-01,\n",
      "        -2.3012e-01, -2.5296e-01,  6.1928e-01, -2.0201e-01, -5.2538e-01,\n",
      "         7.1269e-01,  7.2285e-01, -2.6909e-01,  2.8788e-01, -3.8467e-02,\n",
      "        -1.7076e-01,  1.8433e-01,  5.2486e-01, -5.8933e-01, -6.4097e-02,\n",
      "         3.7311e-01, -5.3842e-02, -4.7041e-01, -3.6700e-01, -1.0144e-03,\n",
      "         7.0446e-01, -9.7668e-01,  3.3059e-01,  7.3030e-01, -6.7173e-01,\n",
      "        -3.0557e-01, -2.6082e-01, -1.7074e-01,  7.9025e-01, -4.2710e-01,\n",
      "         2.7443e-02, -2.8764e-01,  1.0911e+00, -1.1334e-01,  5.1561e-01])\n",
      "tensor([-8.4829e-01,  4.8045e-02, -7.6903e-02, -4.4043e-01,  1.9126e-01,\n",
      "        -9.5597e-01,  1.6619e-01, -1.3221e+00,  3.8042e-01, -5.1421e-01,\n",
      "         1.3048e+00,  1.4894e-02,  1.6203e-01,  1.0688e-01, -1.1420e-01,\n",
      "        -5.9673e-01,  1.1552e-01, -9.6879e-02,  1.9368e-02, -7.0102e-01,\n",
      "        -9.1018e-01, -4.8202e-01, -2.3320e-01, -5.1092e-01,  5.9191e-01,\n",
      "        -2.7800e-01,  9.3216e-01,  1.8102e-01,  6.8484e-01,  2.3009e-01,\n",
      "         7.5774e-01, -1.4091e-02,  3.2498e-01, -1.6864e-01,  5.7899e-01,\n",
      "         7.0943e-02,  4.6220e-01,  9.2222e-01, -7.2013e-01, -6.2910e-01,\n",
      "        -3.1456e-01, -5.1017e-01,  1.0232e-01,  4.3798e-01, -2.5011e-01,\n",
      "        -2.4037e-01,  3.0164e-01, -4.4896e-01, -2.6097e-01, -4.2863e-01,\n",
      "        -1.0072e+00,  6.2007e-01,  6.0090e-01, -5.6791e-01, -8.2886e-02,\n",
      "        -5.1386e-01, -1.1423e+00, -3.0666e-01,  3.2619e-02, -4.6110e-01,\n",
      "         9.0570e-02, -3.1214e-02,  2.8092e-01,  4.2779e-01,  1.8850e-01,\n",
      "        -2.3012e-01, -2.5296e-01,  6.1928e-01, -2.0201e-01, -5.2538e-01,\n",
      "         7.1269e-01,  7.2285e-01, -2.6909e-01,  2.8788e-01, -3.8467e-02,\n",
      "        -1.7076e-01,  1.8433e-01,  5.2486e-01, -5.8933e-01, -6.4097e-02,\n",
      "         3.7311e-01, -5.3842e-02, -4.7041e-01, -3.6700e-01, -1.0144e-03,\n",
      "         7.0446e-01, -9.7668e-01,  3.3059e-01,  7.3030e-01, -6.7173e-01,\n",
      "        -3.0557e-01, -2.6082e-01, -1.7074e-01,  7.9025e-01, -4.2710e-01,\n",
      "         2.7443e-02, -2.8764e-01,  1.0911e+00, -1.1334e-01,  5.1561e-01])\n"
     ]
    }
   ],
   "source": [
    "print(model_encoded[-2].weight.data[:, -1:].detach().clone().view(-1))\n",
    "print(w)"
   ]
  },
  {
   "cell_type": "code",
   "execution_count": 30,
   "id": "b5d13094",
   "metadata": {},
   "outputs": [],
   "source": [
    "decoded_message = decode(model_encoded[-2].weight.data[:, -1:].detach().cpu().clone().view(-1), key)"
   ]
  },
  {
   "cell_type": "code",
   "execution_count": 31,
   "id": "72338325",
   "metadata": {},
   "outputs": [
    {
     "data": {
      "text/plain": [
       "1.0"
      ]
     },
     "execution_count": 31,
     "metadata": {},
     "output_type": "execute_result"
    }
   ],
   "source": [
    "get_message_accuracy(message, decoded_message)"
   ]
  },
  {
   "cell_type": "code",
   "execution_count": 32,
   "id": "eb4897b0",
   "metadata": {},
   "outputs": [],
   "source": [
    "trainer.set_model(model_encoded)"
   ]
  },
  {
   "cell_type": "code",
   "execution_count": 33,
   "id": "72afe7d2",
   "metadata": {},
   "outputs": [],
   "source": [
    "acc_message_our = [get_message_accuracy(message, decoded_message)]\n",
    "acc_message_orig = [get_message_accuracy(trainer.get_watermark(), trainer.predict_watermark())]"
   ]
  },
  {
   "cell_type": "code",
   "execution_count": 34,
   "id": "165ed769",
   "metadata": {},
   "outputs": [
    {
     "name": "stdout",
     "output_type": "stream",
     "text": [
      "[1.0]\n",
      "[1.0]\n"
     ]
    }
   ],
   "source": [
    "print(acc_message_our)\n",
    "print(acc_message_orig)"
   ]
  },
  {
   "cell_type": "code",
   "execution_count": 38,
   "id": "963d2209",
   "metadata": {},
   "outputs": [
    {
     "name": "stdout",
     "output_type": "stream",
     "text": [
      "Epoch 0 of 1\n",
      "Epoch: 0, val loss: 2.8524273646152234, val accuracy: 0.35618606209754944\n",
      "Epoch: 0, train loss: 1.5010793855428086, train accuracy: 0.570252537727356\n",
      "Epoch time: 12.364414691925049\n",
      "Epoch 0 of 1\n",
      "Epoch: 0, val loss: 2.848509209540189, val accuracy: 0.35753676295280457\n",
      "Epoch: 0, train loss: 1.485793542221684, train accuracy: 0.577038049697876\n",
      "Epoch time: 12.002232074737549\n",
      "Epoch 0 of 1\n",
      "Epoch: 0, val loss: 2.851609523948806, val accuracy: 0.3546755313873291\n",
      "Epoch: 0, train loss: 1.4700888062986877, train accuracy: 0.5828564763069153\n",
      "Epoch time: 12.641972541809082\n",
      "Epoch 0 of 1\n",
      "Epoch: 0, val loss: 2.8931811953444617, val accuracy: 0.3555946350097656\n",
      "Epoch: 0, train loss: 1.454446672173717, train accuracy: 0.5841192603111267\n",
      "Epoch time: 12.535733222961426\n",
      "Epoch 0 of 1\n",
      "Epoch: 0, val loss: 2.893416163866477, val accuracy: 0.3542679250240326\n",
      "Epoch: 0, train loss: 1.4386622510907594, train accuracy: 0.5891304612159729\n",
      "Epoch time: 12.515419960021973\n",
      "Epoch 0 of 1\n",
      "Epoch: 0, val loss: 2.9003998690553945, val accuracy: 0.3552349805831909\n",
      "Epoch: 0, train loss: 1.4278429955472727, train accuracy: 0.5905370712280273\n",
      "Epoch time: 12.714195013046265\n",
      "Epoch 0 of 1\n",
      "Epoch: 0, val loss: 2.917880472319815, val accuracy: 0.35157448053359985\n",
      "Epoch: 0, train loss: 1.406704873989915, train accuracy: 0.5949248671531677\n",
      "Epoch time: 12.489547491073608\n",
      "Epoch 0 of 1\n",
      "Epoch: 0, val loss: 2.9480185368481804, val accuracy: 0.3545795977115631\n",
      "Epoch: 0, train loss: 1.3943194541175041, train accuracy: 0.6016384363174438\n",
      "Epoch time: 12.492445230484009\n",
      "Epoch 0 of 1\n",
      "Epoch: 0, val loss: 2.9792464041648925, val accuracy: 0.3544597327709198\n",
      "Epoch: 0, train loss: 1.3858813538270838, train accuracy: 0.6040840744972229\n",
      "Epoch time: 12.433470010757446\n",
      "Epoch 0 of 1\n",
      "Epoch: 0, val loss: 2.976047371354554, val accuracy: 0.3536684811115265\n",
      "Epoch: 0, train loss: 1.3665530779172697, train accuracy: 0.606713593006134\n",
      "Epoch time: 12.546868324279785\n"
     ]
    }
   ],
   "source": [
    "for e in range(10):\n",
    "    trainer.train(n_epochs=1, batch_size=BATCH_SIZE, lr=1e-3, cuda=True)\n",
    "    model_encoded = model_encoded.cpu()\n",
    "    decoded_message = decode(model_encoded[-2].weight.data[:, -1:].detach().cpu().clone().view(-1), key)\n",
    "    acc_message_our.append(get_message_accuracy(message, decoded_message))\n",
    "    acc_message_orig.append(get_message_accuracy(trainer.get_watermark(), trainer.predict_watermark()))"
   ]
  },
  {
   "cell_type": "code",
   "execution_count": 39,
   "id": "7e098680",
   "metadata": {},
   "outputs": [
    {
     "name": "stdout",
     "output_type": "stream",
     "text": [
      "[1.0, 1.0, 1.0, 1.0, 1.0, 1.0, 1.0, 1.0, 1.0, 1.0, 1.0, 1.0, 1.0, 1.0, 1.0, 1.0, 1.0, 0.9900000095367432, 0.9900000095367432, 0.9900000095367432, 0.9800000190734863]\n",
      "[1.0, 1.0, 1.0, 1.0, 1.0, 1.0, 1.0, 1.0, 1.0, 1.0, 1.0, 1.0, 1.0, 1.0, 1.0, 1.0, 1.0, 1.0, 1.0, 1.0, 1.0]\n"
     ]
    }
   ],
   "source": [
    "print(acc_message_our)\n",
    "print(acc_message_orig)"
   ]
  },
  {
   "cell_type": "code",
   "execution_count": 40,
   "id": "eb30f140",
   "metadata": {},
   "outputs": [
    {
     "data": {
      "image/png": "[encoded data removed]",
      "text/plain": [
       "<Figure size 720x720 with 1 Axes>"
      ]
     },
     "metadata": {
      "needs_background": "light"
     },
     "output_type": "display_data"
    }
   ],
   "source": [
    "plt.figure(figsize=(10,10))\n",
    "plt.plot(acc_message_our, label='Our')\n",
    "plt.plot(acc_message_orig, label='Uchida\\'s')\n",
    "plt.xlabel('epoch')\n",
    "plt.ylabel('watermark accuracy')\n",
    "plt.legend()\n",
    "plt.show()"
   ]
  },
  {
   "cell_type": "code",
   "execution_count": null,
   "id": "95d20988",
   "metadata": {},
   "outputs": [],
   "source": []
  }
 ],
 "metadata": {
  "kernelspec": {
   "display_name": "Python 3",
   "language": "python",
   "name": "python3"
  },
  "language_info": {
   "codemirror_mode": {
    "name": "ipython",
    "version": 3
   },
   "file_extension": ".py",
   "mimetype": "text/x-python",
   "name": "python",
   "nbconvert_exporter": "python",
   "pygments_lexer": "ipython3",
   "version": "3.7.9"
  }
 },
 "nbformat": 4,
 "nbformat_minor": 5
}
