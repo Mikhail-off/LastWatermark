{
 "cells": [
  {
   "cell_type": "code",
   "execution_count": 3,
   "id": "998eeb11",
   "metadata": {},
   "outputs": [],
   "source": [
    "import torch\n",
    "import torch.nn as nn\n",
    "import torch.nn.functional as F\n",
    "\n",
    "import torchvision\n",
    "\n",
    "import numpy as np\n",
    "\n",
    "import matplotlib.pyplot as plt\n",
    "\n",
    "from time import time\n",
    "from IPython.display import clear_output"
   ]
  },
  {
   "cell_type": "code",
   "execution_count": 4,
   "id": "92d48bd3",
   "metadata": {},
   "outputs": [
    {
     "name": "stdout",
     "output_type": "stream",
     "text": [
      "60000\n"
     ]
    }
   ],
   "source": [
    "mnist_dataset = torchvision.datasets.MNIST(root='./data/', download=True, transform=torchvision.transforms.Compose([\n",
    "                               torchvision.transforms.ToTensor(),\n",
    "                               torchvision.transforms.Normalize(\n",
    "                                 (0.5), (0.5))\n",
    "                             ]))\n",
    "print(len(mnist_dataset))"
   ]
  },
  {
   "cell_type": "code",
   "execution_count": 5,
   "id": "77933499",
   "metadata": {},
   "outputs": [],
   "source": [
    "BATCH_SIZE = 256\n",
    "TRAIN_RATIO = 0.5"
   ]
  },
  {
   "cell_type": "code",
   "execution_count": 6,
   "id": "8fe9c5d9",
   "metadata": {},
   "outputs": [],
   "source": [
    "train_dataset, val_dataset = torch.utils.data.random_split(mnist_dataset, [int(TRAIN_RATIO * len(mnist_dataset)), len(mnist_dataset) - int(TRAIN_RATIO * len(mnist_dataset))])\n",
    "train_loader = torch.utils.data.DataLoader(train_dataset, batch_size=BATCH_SIZE, shuffle=True)\n",
    "val_loader = torch.utils.data.DataLoader(val_dataset, batch_size=BATCH_SIZE, shuffle=False)"
   ]
  },
  {
   "cell_type": "code",
   "execution_count": 7,
   "id": "470cbaab",
   "metadata": {},
   "outputs": [],
   "source": [
    "class ModelTrainer:\n",
    "    def __init__(self, train_generator, test_generator):\n",
    "        self.__model = None\n",
    "        self.__train_generator = train_generator\n",
    "        self.__test_generator = test_generator\n",
    "\n",
    "    def set_model(self, model, model_name='model'):\n",
    "        self.__model = model\n",
    "        self.__model_name = model_name\n",
    "\n",
    "    def get_model(self):\n",
    "        return self.__model\n",
    "\n",
    "    def get_model_name(self):\n",
    "        return self.__model_name\n",
    "    \n",
    "    def train_epoch(self, optimizer, batch_size=32, cuda=True):\n",
    "        assert self.__model is not None\n",
    "        \n",
    "        model = self.__model\n",
    "\n",
    "        loss_log, acc_log = [], []\n",
    "        model.train()\n",
    "        steps = 0\n",
    "        for batch_num, (x_batch, y_batch) in enumerate(self.__train_generator):\n",
    "            data = x_batch.cuda() if cuda else x_batch\n",
    "            target = y_batch.cuda() if cuda else y_batch\n",
    "\n",
    "            optimizer.zero_grad()\n",
    "            output = model(data)\n",
    "            pred = torch.max(output, 1)[1].cpu()\n",
    "            acc = torch.eq(pred, y_batch).float().mean()\n",
    "            acc_log.append(acc)\n",
    "            \n",
    "            loss = F.nll_loss(output, target).cpu()\n",
    "            loss.backward()\n",
    "            optimizer.step()\n",
    "            loss = loss.item()\n",
    "            loss_log.append(loss)\n",
    "            \n",
    "            steps += 1\n",
    "            print('Step {0}'.format(steps), flush=True, end='\\r')\n",
    "\n",
    "        return loss_log, acc_log, steps\n",
    "        \n",
    "\n",
    "    def train(self, n_epochs, batch_size=32, lr=1e-3, cuda=True, plot_history=None, clear_output=None):\n",
    "        assert self.__model is not None\n",
    "    \n",
    "        if cuda:\n",
    "            self.__model = self.__model.cuda()\n",
    "        else:\n",
    "            self.__model = self.__model.cpu()\n",
    "\n",
    "        model = self.__model\n",
    "        opt = torch.optim.AdamW(model.parameters(), lr=lr)\n",
    "\n",
    "        train_log, train_acc_log = [], []\n",
    "        val_log, val_acc_log = [], []\n",
    "\n",
    "        best_val_score = 0.\n",
    "\n",
    "        for epoch in range(n_epochs):\n",
    "            epoch_begin = time()\n",
    "            print(\"Epoch {0} of {1}\".format(epoch, n_epochs))\n",
    "            train_loss, train_acc, steps = self.train_epoch(opt, batch_size=batch_size, cuda=cuda)\n",
    "\n",
    "            val_loss, val_acc = self.test(cuda=cuda)\n",
    "\n",
    "            train_log.extend(train_loss)\n",
    "            train_acc_log.extend(train_acc)\n",
    "\n",
    "            val_log.append((steps * (epoch + 1), np.mean(val_loss)))\n",
    "            val_acc_log.append((steps * (epoch + 1), np.mean(val_acc)))\n",
    "\n",
    "            if np.mean(val_acc) > best_val_score:\n",
    "                best_val_score = np.mean(val_acc)\n",
    "                torch.save(model, self.__model_name + '_best.pth')\n",
    "            \n",
    "            if plot_history is not None:\n",
    "                clear_output()\n",
    "                plot_history(train_log, val_log)\n",
    "                plot_history(train_acc_log, val_acc_log, title='accuracy')   \n",
    "            epoch_end = time()\n",
    "            epoch_time = epoch_end - epoch_begin\n",
    "            print(\"Epoch: {2}, val loss: {0}, val accuracy: {1}\".format(np.mean(val_loss), np.mean(val_acc), epoch))\n",
    "            print(\"Epoch: {2}, train loss: {0}, train accuracy: {1}\".format(np.mean(train_loss), np.mean(train_acc), epoch))\n",
    "            print('Epoch time: {0}'.format(epoch_time))\n",
    "        self.__model = model.cpu()\n",
    "\n",
    "    def test(self, cuda=True):\n",
    "        assert self.__model is not None\n",
    "        \n",
    "        model = self.__model.cuda() if cuda else self.__model\n",
    "        \n",
    "        loss_log, acc_log = [], []\n",
    "        model.eval()\n",
    "        \n",
    "        for batch_num, (x_batch, y_batch) in enumerate(self.__test_generator):    \n",
    "            data = x_batch.cuda() if cuda else x_batch\n",
    "            target = y_batch.cuda() if cuda else y_batch\n",
    "\n",
    "            output = model(data)\n",
    "            loss = F.nll_loss(output, target).cpu()\n",
    "\n",
    "            pred = torch.max(output, 1)[1].cpu()\n",
    "            acc = torch.eq(pred, y_batch).float().mean()\n",
    "            acc_log.append(acc)\n",
    "            \n",
    "            loss = loss.item()\n",
    "            loss_log.append(loss)\n",
    "\n",
    "        return loss_log, acc_log\n",
    "\n",
    "def plot_history(train_history, val_history, title='loss'):\n",
    "    plt.figure()\n",
    "    plt.title('{}'.format(title))\n",
    "    plt.plot(train_history, label='train', zorder=1)\n",
    "    \n",
    "    points = np.array(val_history)\n",
    "    \n",
    "    plt.scatter(points[:, 0], points[:, 1], marker='+', s=180, c='orange', label='val', zorder=2)\n",
    "    plt.xlabel('train steps')\n",
    "    \n",
    "    plt.legend(loc='best')\n",
    "    plt.grid()\n",
    "\n",
    "    plt.show()"
   ]
  },
  {
   "cell_type": "code",
   "execution_count": 113,
   "id": "7d7f3765",
   "metadata": {},
   "outputs": [],
   "source": [
    "trainer = ModelTrainer(train_loader, val_loader)"
   ]
  },
  {
   "cell_type": "code",
   "execution_count": 114,
   "id": "6dd0bca2",
   "metadata": {},
   "outputs": [],
   "source": [
    "base_channel = 8\n",
    "model = nn.Sequential(# 28 * 28\n",
    "    nn.Conv2d(1, base_channel, kernel_size=3, stride=1, dilation=1),  # 26*26\n",
    "    nn.ReLU(),\n",
    "    nn.Conv2d(base_channel, base_channel, kernel_size=3, stride=1, dilation=1),  # 24 * 24\n",
    "    nn.ReLU(),\n",
    "    nn.Conv2d(base_channel, 2 * base_channel, kernel_size=3, stride=2, dilation=1, padding=1),  # 12 * 12\n",
    "    nn.ReLU(),\n",
    "    nn.Conv2d(2 * base_channel, 2 * base_channel, kernel_size=3, stride=1, dilation=1),  # 10*10\n",
    "    nn.ReLU(),\n",
    "    nn.Conv2d(2 * base_channel, 4 * base_channel, kernel_size=3, stride=1, dilation=1),  # 8 * 8\n",
    "    nn.ReLU(),\n",
    "    nn.Conv2d(4 * base_channel, 4 * base_channel, kernel_size=3, stride=1, dilation=1),  # 6 * 6\n",
    "    nn.ReLU(),\n",
    "    nn.Flatten(),\n",
    "    nn.Linear(6 * 6 * 4 * base_channel, 64),\n",
    "    nn.ReLU(),\n",
    "    nn.Linear(64, 10),\n",
    "    nn.LogSoftmax(dim=1)\n",
    ")"
   ]
  },
  {
   "cell_type": "code",
   "execution_count": 115,
   "id": "14e06fea",
   "metadata": {},
   "outputs": [],
   "source": [
    "trainer.set_model(model)"
   ]
  },
  {
   "cell_type": "code",
   "execution_count": 131,
   "id": "534ae1e3",
   "metadata": {},
   "outputs": [
    {
     "data": {
      "image/png": "[encoded data removed]",
      "text/plain": [
       "<Figure size 432x288 with 1 Axes>"
      ]
     },
     "metadata": {
      "needs_background": "light"
     },
     "output_type": "display_data"
    },
    {
     "data": {
      "image/png": "[encoded data removed]",
      "text/plain": [
       "<Figure size 432x288 with 1 Axes>"
      ]
     },
     "metadata": {
      "needs_background": "light"
     },
     "output_type": "display_data"
    },
    {
     "name": "stdout",
     "output_type": "stream",
     "text": [
      "Epoch: 0, val loss: 2.875169558040166, val accuracy: 0.8245497941970825\n",
      "Epoch: 0, train loss: 72.08911228937617, train accuracy: 0.6152895092964172\n",
      "Epoch time: 7.093629837036133\n"
     ]
    }
   ],
   "source": [
    "trainer.train(n_epochs=1, batch_size=BATCH_SIZE, lr=1e-3, cuda=True, plot_history=plot_history, clear_output=clear_output)"
   ]
  },
  {
   "cell_type": "code",
   "execution_count": 117,
   "id": "89434faa",
   "metadata": {},
   "outputs": [
    {
     "data": {
      "text/plain": [
       "False"
      ]
     },
     "execution_count": 117,
     "metadata": {},
     "output_type": "execute_result"
    }
   ],
   "source": [
    "trainer.get_model()[-4].weight.data.requires_grad"
   ]
  },
  {
   "cell_type": "code",
   "execution_count": 118,
   "id": "0c4d171e",
   "metadata": {},
   "outputs": [],
   "source": [
    "loss, acc = map(np.mean, trainer.test(cuda=True))"
   ]
  },
  {
   "cell_type": "code",
   "execution_count": 119,
   "id": "91e67185",
   "metadata": {},
   "outputs": [
    {
     "data": {
      "text/plain": [
       "(0.2940014191603256, 0.910697)"
      ]
     },
     "execution_count": 119,
     "metadata": {},
     "output_type": "execute_result"
    }
   ],
   "source": [
    "loss, acc"
   ]
  },
  {
   "cell_type": "code",
   "execution_count": 120,
   "id": "0ecd923e",
   "metadata": {},
   "outputs": [],
   "source": [
    "model = model.cpu()"
   ]
  },
  {
   "cell_type": "markdown",
   "id": "d9601051",
   "metadata": {},
   "source": [
    "Change outputs amount "
   ]
  },
  {
   "cell_type": "code",
   "execution_count": 121,
   "id": "dbcf4af6",
   "metadata": {},
   "outputs": [],
   "source": [
    "INJECTED_SIZE = 10"
   ]
  },
  {
   "cell_type": "code",
   "execution_count": 122,
   "id": "731c4c7f",
   "metadata": {},
   "outputs": [],
   "source": [
    "def fake_output_ones(layer, ones_num):\n",
    "    prev_weights = layer.weight.data.detach().clone()\n",
    "    prev_bias = layer.bias.data.detach().clone()\n",
    "    new_layer = nn.Linear(layer.in_features, layer.out_features + ones_num)\n",
    "    new_layer.weight.data = torch.cat([prev_weights, torch.zeros(ones_num, new_layer.in_features)])\n",
    "    new_layer.bias.data = torch.cat([prev_bias, torch.ones(ones_num)])\n",
    "    return new_layer"
   ]
  },
  {
   "cell_type": "code",
   "execution_count": 123,
   "id": "dc7d468c",
   "metadata": {},
   "outputs": [],
   "source": [
    "model[-4] = fake_output_ones(model[-4], INJECTED_SIZE)"
   ]
  },
  {
   "cell_type": "code",
   "execution_count": 124,
   "id": "a13b4211",
   "metadata": {},
   "outputs": [],
   "source": [
    "def inject_fake_matrix(layer, fake_tensor):\n",
    "    prev_weights = layer.weight.data.detach().clone()\n",
    "    prev_bias = layer.bias.data.detach().clone()\n",
    "    new_layer = nn.Linear(layer.in_features + fake_tensor.shape[1], layer.out_features)\n",
    "    print(new_layer.weight.data.shape)\n",
    "    new_layer.weight.data = torch.cat([prev_weights, fake_tensor], dim=-1)\n",
    "    new_layer.bias.data = prev_bias - fake_tensor.sum(dim=-1)\n",
    "    return new_layer"
   ]
  },
  {
   "cell_type": "code",
   "execution_count": 133,
   "id": "fda8159a",
   "metadata": {},
   "outputs": [],
   "source": [
    "fake_tensor = torch.arange(10*INJECTED_SIZE).view(10, -1)"
   ]
  },
  {
   "cell_type": "code",
   "execution_count": 125,
   "id": "37c570a1",
   "metadata": {},
   "outputs": [
    {
     "name": "stdout",
     "output_type": "stream",
     "text": [
      "torch.Size([10, 74])\n"
     ]
    }
   ],
   "source": [
    "model[-2] = inject_fake_matrix(model[-2], fake_tensor)"
   ]
  },
  {
   "cell_type": "code",
   "execution_count": 126,
   "id": "858e0851",
   "metadata": {},
   "outputs": [
    {
     "data": {
      "text/plain": [
       "Sequential(\n",
       "  (0): Conv2d(1, 8, kernel_size=(3, 3), stride=(1, 1))\n",
       "  (1): ReLU()\n",
       "  (2): Conv2d(8, 8, kernel_size=(3, 3), stride=(1, 1))\n",
       "  (3): ReLU()\n",
       "  (4): Conv2d(8, 16, kernel_size=(3, 3), stride=(2, 2), padding=(1, 1))\n",
       "  (5): ReLU()\n",
       "  (6): Conv2d(16, 16, kernel_size=(3, 3), stride=(1, 1))\n",
       "  (7): ReLU()\n",
       "  (8): Conv2d(16, 32, kernel_size=(3, 3), stride=(1, 1))\n",
       "  (9): ReLU()\n",
       "  (10): Conv2d(32, 32, kernel_size=(3, 3), stride=(1, 1))\n",
       "  (11): ReLU()\n",
       "  (12): Flatten(start_dim=1, end_dim=-1)\n",
       "  (13): Linear(in_features=1152, out_features=74, bias=True)\n",
       "  (14): ReLU()\n",
       "  (15): Linear(in_features=74, out_features=10, bias=True)\n",
       "  (16): LogSoftmax(dim=1)\n",
       ")"
      ]
     },
     "execution_count": 126,
     "metadata": {},
     "output_type": "execute_result"
    }
   ],
   "source": [
    "model"
   ]
  },
  {
   "cell_type": "code",
   "execution_count": 127,
   "id": "e8a1f0be",
   "metadata": {},
   "outputs": [],
   "source": [
    "loss, acc = map(np.mean, trainer.test(cuda=True))"
   ]
  },
  {
   "cell_type": "code",
   "execution_count": 128,
   "id": "3bbf4b73",
   "metadata": {},
   "outputs": [
    {
     "data": {
      "text/plain": [
       "(0.29400167399543825, 0.910697)"
      ]
     },
     "execution_count": 128,
     "metadata": {},
     "output_type": "execute_result"
    }
   ],
   "source": [
    "loss, acc"
   ]
  },
  {
   "cell_type": "code",
   "execution_count": 136,
   "id": "00f5575f",
   "metadata": {},
   "outputs": [
    {
     "data": {
      "text/plain": [
       "tensor(-0.0596)"
      ]
     },
     "execution_count": 136,
     "metadata": {},
     "output_type": "execute_result"
    }
   ],
   "source": [
    "(trainer.get_model()[-2].weight.data[:, -INJECTED_SIZE:] - fake_tensor).mean()"
   ]
  },
  {
   "cell_type": "code",
   "execution_count": null,
   "id": "c6697b1d",
   "metadata": {},
   "outputs": [],
   "source": []
  }
 ],
 "metadata": {
  "kernelspec": {
   "display_name": "Python 3",
   "language": "python",
   "name": "python3"
  },
  "language_info": {
   "codemirror_mode": {
    "name": "ipython",
    "version": 3
   },
   "file_extension": ".py",
   "mimetype": "text/x-python",
   "name": "python",
   "nbconvert_exporter": "python",
   "pygments_lexer": "ipython3",
   "version": "3.7.9"
  }
 },
 "nbformat": 4,
 "nbformat_minor": 5
}
